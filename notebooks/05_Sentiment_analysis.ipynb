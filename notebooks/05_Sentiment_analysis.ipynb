{
 "cells": [
  {
   "cell_type": "markdown",
   "id": "2347aaae-9930-4f67-a373-19d8b88b21a8",
   "metadata": {},
   "source": [
    "# Sentiment Analysis Model"
   ]
  },
  {
   "cell_type": "markdown",
   "id": "e99c6741-a9f2-4ddd-8f64-ce4aca59c1ef",
   "metadata": {},
   "source": [
    "## 1. Imports"
   ]
  },
  {
   "cell_type": "code",
   "execution_count": 4,
   "id": "3e68f1a5-ee38-474b-ae3a-94ab79db2c2e",
   "metadata": {},
   "outputs": [
    {
     "name": "stderr",
     "output_type": "stream",
     "text": [
      "[nltk_data] Downloading package stopwords to /Users/Simon/nltk_data...\n",
      "[nltk_data]   Unzipping corpora/stopwords.zip.\n",
      "[nltk_data] Downloading package wordnet to /Users/Simon/nltk_data...\n"
     ]
    },
    {
     "data": {
      "text/plain": [
       "True"
      ]
     },
     "execution_count": 4,
     "metadata": {},
     "output_type": "execute_result"
    }
   ],
   "source": [
    "import pandas as pd\n",
    "import numpy as np\n",
    "import re\n",
    "import string\n",
    "import matplotlib.pyplot as plt\n",
    "import seaborn as sns\n",
    "\n",
    "from sklearn.model_selection import train_test_split, GridSearchCV\n",
    "from sklearn.feature_extraction.text import TfidfVectorizer\n",
    "from sklearn.linear_model import LogisticRegression\n",
    "from sklearn.svm import SVC\n",
    "from sklearn.ensemble import RandomForestClassifier\n",
    "from sklearn.naive_bayes import MultinomialNB\n",
    "from sklearn.metrics import classification_report, confusion_matrix\n",
    "from sklearn.preprocessing import LabelEncoder\n",
    "\n",
    "import nltk\n",
    "from nltk.corpus import stopwords\n",
    "from nltk.stem import WordNetLemmatizer\n",
    "\n",
    "import warnings\n",
    "warnings.filterwarnings(\"ignore\")\n",
    "\n",
    "nltk.download(\"stopwords\")\n",
    "nltk.download(\"wordnet\")"
   ]
  },
  {
   "cell_type": "markdown",
   "id": "7f7f60b0-9334-474b-92bf-84f89e40c607",
   "metadata": {},
   "source": [
    "## 2. Load Labelled Data"
   ]
  },
  {
   "cell_type": "code",
   "execution_count": 5,
   "id": "07531df7-9d7d-4a13-b7e0-aef181d2eced",
   "metadata": {},
   "outputs": [
    {
     "name": "stdout",
     "output_type": "stream",
     "text": [
      "Dataset Shape: (462744, 3)\n"
     ]
    },
    {
     "data": {
      "text/html": [
       "<div>\n",
       "<style scoped>\n",
       "    .dataframe tbody tr th:only-of-type {\n",
       "        vertical-align: middle;\n",
       "    }\n",
       "\n",
       "    .dataframe tbody tr th {\n",
       "        vertical-align: top;\n",
       "    }\n",
       "\n",
       "    .dataframe thead th {\n",
       "        text-align: right;\n",
       "    }\n",
       "</style>\n",
       "<table border=\"1\" class=\"dataframe\">\n",
       "  <thead>\n",
       "    <tr style=\"text-align: right;\">\n",
       "      <th></th>\n",
       "      <th>labelled_review.uid</th>\n",
       "      <th>text</th>\n",
       "      <th>sentiment_label</th>\n",
       "    </tr>\n",
       "  </thead>\n",
       "  <tbody>\n",
       "    <tr>\n",
       "      <th>0</th>\n",
       "      <td>0</td>\n",
       "      <td>I'm no bitters expert but I bought it as a gif...</td>\n",
       "      <td>neutral</td>\n",
       "    </tr>\n",
       "    <tr>\n",
       "      <th>1</th>\n",
       "      <td>1</td>\n",
       "      <td>these are probably great in the right drinks, ...</td>\n",
       "      <td>neutral</td>\n",
       "    </tr>\n",
       "    <tr>\n",
       "      <th>2</th>\n",
       "      <td>2</td>\n",
       "      <td>I sent these to my dad for his bday and he sai...</td>\n",
       "      <td>positive</td>\n",
       "    </tr>\n",
       "    <tr>\n",
       "      <th>3</th>\n",
       "      <td>3</td>\n",
       "      <td>I purchased these as a gift for family member ...</td>\n",
       "      <td>positive</td>\n",
       "    </tr>\n",
       "    <tr>\n",
       "      <th>4</th>\n",
       "      <td>4</td>\n",
       "      <td>My wife bought me this sauce sampler for Chris...</td>\n",
       "      <td>neutral</td>\n",
       "    </tr>\n",
       "  </tbody>\n",
       "</table>\n",
       "</div>"
      ],
      "text/plain": [
       "   labelled_review.uid                                               text  \\\n",
       "0                    0  I'm no bitters expert but I bought it as a gif...   \n",
       "1                    1  these are probably great in the right drinks, ...   \n",
       "2                    2  I sent these to my dad for his bday and he sai...   \n",
       "3                    3  I purchased these as a gift for family member ...   \n",
       "4                    4  My wife bought me this sauce sampler for Chris...   \n",
       "\n",
       "  sentiment_label  \n",
       "0         neutral  \n",
       "1         neutral  \n",
       "2        positive  \n",
       "3        positive  \n",
       "4         neutral  "
      ]
     },
     "execution_count": 5,
     "metadata": {},
     "output_type": "execute_result"
    }
   ],
   "source": [
    "df = pd.read_csv(\"../data_02/reviews_labelled.csv\")\n",
    "print(\"Dataset Shape:\", df.shape)\n",
    "df.head()"
   ]
  },
  {
   "cell_type": "markdown",
   "id": "1abc6229-6dcf-4b16-b63c-c15739036899",
   "metadata": {},
   "source": [
    "## 3. Exploratory Data Analysis (EDA)"
   ]
  },
  {
   "cell_type": "code",
   "execution_count": 6,
   "id": "af809a47-ac29-4e21-9e9c-42376f3e7119",
   "metadata": {},
   "outputs": [
    {
     "name": "stdout",
     "output_type": "stream",
     "text": [
      "sentiment_label\n",
      "positive    297008\n",
      "neutral     123386\n",
      "negative     42350\n",
      "Name: count, dtype: int64\n"
     ]
    },
    {
     "data": {
      "image/png": "[encoded data removed]",
      "text/plain": [
       "<Figure size 640x480 with 1 Axes>"
      ]
     },
     "metadata": {},
     "output_type": "display_data"
    }
   ],
   "source": [
    "print(df[\"sentiment_label\"].value_counts())\n",
    "df[\"review_length\"] = df[\"text\"].astype(str).apply(lambda x: len(x.split()))\n",
    "df[\"review_length\"].hist(bins=30)\n",
    "plt.title(\"Review Length Distribution\")\n",
    "plt.xlabel(\"Number of Words\")\n",
    "plt.ylabel(\"Frequency\")\n",
    "plt.show()"
   ]
  },
  {
   "cell_type": "markdown",
   "id": "611287f8-8e2c-4adc-a0e6-53b93d8239f1",
   "metadata": {},
   "source": [
    "## 4. Preprocessing"
   ]
  },
  {
   "cell_type": "code",
   "execution_count": 7,
   "id": "4d03cc6c-2ba7-40f0-8207-72df49392fd5",
   "metadata": {},
   "outputs": [],
   "source": [
    "stop_words = set(stopwords.words(\"english\"))\n",
    "lemmatizer = WordNetLemmatizer()\n",
    "\n",
    "def clean_text(text):\n",
    "    text = text.lower()\n",
    "    text = re.sub(r\"http\\S+\", \"\", text)\n",
    "    text = re.sub(r\"\\d+\", \"\", text)\n",
    "    text = text.translate(str.maketrans(\"\", \"\", string.punctuation))\n",
    "    text = text.strip()\n",
    "    return text\n",
    "\n",
    "def preprocess(text):\n",
    "    text = clean_text(text)\n",
    "    tokens = text.split()\n",
    "    tokens = [lemmatizer.lemmatize(word) for word in tokens if word not in stop_words]\n",
    "    return \" \".join(tokens)\n",
    "\n",
    "df[\"clean_text\"] = df[\"text\"].astype(str).apply(preprocess)"
   ]
  },
  {
   "cell_type": "markdown",
   "id": "f0791ca3-97dc-45a1-8984-c469f45edc99",
   "metadata": {},
   "source": [
    "## 5. Encode Labels"
   ]
  },
  {
   "cell_type": "code",
   "execution_count": 8,
   "id": "e3d417a5-641c-48cd-b2da-066fa4657058",
   "metadata": {},
   "outputs": [
    {
     "name": "stdout",
     "output_type": "stream",
     "text": [
      "{'negative': np.int64(0), 'neutral': np.int64(1), 'positive': np.int64(2)}\n"
     ]
    }
   ],
   "source": [
    "le = LabelEncoder()\n",
    "df[\"label\"] = le.fit_transform(df[\"sentiment_label\"])\n",
    "print(dict(zip(le.classes_, le.transform(le.classes_))))"
   ]
  },
  {
   "cell_type": "markdown",
   "id": "881a9228-0cf8-4a41-ac9c-1b4db90564a9",
   "metadata": {},
   "source": [
    "## 6. Train-Test Split"
   ]
  },
  {
   "cell_type": "code",
   "execution_count": 9,
   "id": "6da9f57a-2d79-4635-bec5-bd31b0fceaeb",
   "metadata": {},
   "outputs": [],
   "source": [
    "X = df[\"clean_text\"]\n",
    "y = df[\"label\"]\n",
    "\n",
    "X_train, X_test, y_train, y_test = train_test_split(X, y, stratify=y, test_size=0.2, random_state=42)"
   ]
  },
  {
   "cell_type": "markdown",
   "id": "b0bde6bb-fb40-460d-9196-30d3e948891b",
   "metadata": {},
   "source": [
    "## 7. TF-IDF Vectorization"
   ]
  },
  {
   "cell_type": "code",
   "execution_count": 10,
   "id": "09352104-2d51-4327-a934-da03899c02d8",
   "metadata": {},
   "outputs": [],
   "source": [
    "vectorizer = TfidfVectorizer(max_features=5000)\n",
    "X_train_vec = vectorizer.fit_transform(X_train)\n",
    "X_test_vec = vectorizer.transform(X_test)"
   ]
  },
  {
   "cell_type": "markdown",
   "id": "e496bf45-5390-420b-8fc8-45eb79116a04",
   "metadata": {},
   "source": [
    "## 8. Model Training and Comparison"
   ]
  },
  {
   "cell_type": "code",
   "execution_count": 11,
   "id": "84ad33ab-c33e-4282-9014-9149c25ee0af",
   "metadata": {},
   "outputs": [
    {
     "name": "stdout",
     "output_type": "stream",
     "text": [
      "\n",
      "Training Logistic Regression...\n",
      "              precision    recall  f1-score   support\n",
      "\n",
      "    negative       0.72      0.57      0.64      8470\n",
      "     neutral       0.66      0.53      0.59     24677\n",
      "    positive       0.82      0.92      0.87     59402\n",
      "\n",
      "    accuracy                           0.78     92549\n",
      "   macro avg       0.74      0.67      0.70     92549\n",
      "weighted avg       0.77      0.78      0.77     92549\n",
      "\n",
      "\n",
      "Training Linear SVM...\n",
      "              precision    recall  f1-score   support\n",
      "\n",
      "    negative       0.73      0.56      0.63      8470\n",
      "     neutral       0.68      0.51      0.58     24677\n",
      "    positive       0.82      0.93      0.87     59402\n",
      "\n",
      "    accuracy                           0.78     92549\n",
      "   macro avg       0.74      0.67      0.69     92549\n",
      "weighted avg       0.77      0.78      0.77     92549\n",
      "\n",
      "\n",
      "Training Random Forest...\n",
      "              precision    recall  f1-score   support\n",
      "\n",
      "    negative       0.98      0.04      0.08      8470\n",
      "     neutral       0.89      0.09      0.17     24677\n",
      "    positive       0.66      1.00      0.80     59402\n",
      "\n",
      "    accuracy                           0.67     92549\n",
      "   macro avg       0.84      0.38      0.35     92549\n",
      "weighted avg       0.75      0.67      0.56     92549\n",
      "\n",
      "\n",
      "Training Naive Bayes...\n",
      "              precision    recall  f1-score   support\n",
      "\n",
      "    negative       0.77      0.25      0.38      8470\n",
      "     neutral       0.68      0.27      0.38     24677\n",
      "    positive       0.72      0.97      0.83     59402\n",
      "\n",
      "    accuracy                           0.72     92549\n",
      "   macro avg       0.72      0.50      0.53     92549\n",
      "weighted avg       0.72      0.72      0.67     92549\n",
      "\n"
     ]
    }
   ],
   "source": [
    "from sklearn.svm import LinearSVC  # ADD THIS import at the top\n",
    "\n",
    "models = {\n",
    "    \"Logistic Regression\": LogisticRegression(max_iter=1000),\n",
    "    \"Linear SVM\": LinearSVC(),\n",
    "    \"Random Forest\": RandomForestClassifier(n_estimators=50, max_depth=20, n_jobs=-1),\n",
    "    \"Naive Bayes\": MultinomialNB()\n",
    "}\n",
    "\n",
    "for name, model in models.items():\n",
    "    print(f\"\\nTraining {name}...\")\n",
    "    model.fit(X_train_vec, y_train)\n",
    "    y_pred = model.predict(X_test_vec)\n",
    "    print(classification_report(y_test, y_pred, target_names=le.classes_))"
   ]
  },
  {
   "cell_type": "markdown",
   "id": "e80adb8d-842e-434f-8e26-527d5121577b",
   "metadata": {},
   "source": [
    "## 9. Best Model Evaluation (Logistic Regression)"
   ]
  },
  {
   "cell_type": "code",
   "execution_count": 12,
   "id": "e93dcfdc-e33c-4bf5-b201-465a3e6ac8f0",
   "metadata": {},
   "outputs": [
    {
     "data": {
      "image/png": "[encoded data removed]",
      "text/plain": [
       "<Figure size 640x480 with 2 Axes>"
      ]
     },
     "metadata": {},
     "output_type": "display_data"
    }
   ],
   "source": [
    "clf = LogisticRegression(max_iter=1000)\n",
    "clf.fit(X_train_vec, y_train)\n",
    "y_pred = clf.predict(X_test_vec)\n",
    "\n",
    "cm = confusion_matrix(y_test, y_pred)\n",
    "sns.heatmap(cm, annot=True, fmt=\"d\", xticklabels=le.classes_, yticklabels=le.classes_)\n",
    "plt.xlabel(\"Predicted\")\n",
    "plt.ylabel(\"Actual\")\n",
    "plt.title(\"Confusion Matrix\")\n",
    "plt.show()"
   ]
  },
  {
   "cell_type": "markdown",
   "id": "12c109b5-40e9-40bc-85ca-6310e4ba6fa5",
   "metadata": {},
   "source": [
    "## 10. Predict on Unlabeled Data"
   ]
  },
  {
   "cell_type": "code",
   "execution_count": 13,
   "id": "136e4f58-a301-48ad-9551-270b8397c9ac",
   "metadata": {},
   "outputs": [
    {
     "name": "stdout",
     "output_type": "stream",
     "text": [
      "                     user.uid  \\\n",
      "0  tcdf7enqg9sxqq4ie4qh3xzjbt   \n",
      "1  kszpqbggktbzmtkkkejthwyucw   \n",
      "2  l01hczdvthqra6hsxbovmqipdc   \n",
      "3  cmszp7l1j9pt53fvt178v3avxd   \n",
      "4  bhimnczlhxddegbdaytb7gbhx2   \n",
      "\n",
      "                                                text predicted_sentiment  \n",
      "0  I have bought several of the Vitality canned d...            positive  \n",
      "1  Product arrived labeled as Jumbo Salted Peanut...            negative  \n",
      "2  This is a confection that has been around a fe...            positive  \n",
      "3  If you are looking for the secret ingredient i...            positive  \n",
      "4  Great taffy at a great price.  There was a wid...            positive  \n"
     ]
    }
   ],
   "source": [
    "df_unlabeled = pd.read_csv(\"../data_02/reviews.csv\")\n",
    "df_unlabeled[\"clean_text\"] = df_unlabeled[\"text\"].astype(str).apply(preprocess)\n",
    "X_unlabeled_vec = vectorizer.transform(df_unlabeled[\"clean_text\"])\n",
    "\n",
    "predicted_labels = clf.predict(X_unlabeled_vec)\n",
    "df_unlabeled[\"predicted_label\"] = predicted_labels\n",
    "df_unlabeled[\"predicted_sentiment\"] = le.inverse_transform(predicted_labels)\n",
    "\n",
    "print(df_unlabeled[[\"user.uid\", \"text\", \"predicted_sentiment\"]].head())"
   ]
  },
  {
   "cell_type": "code",
   "execution_count": null,
   "id": "72b2b9c6-2f62-4222-903d-c04a15672653",
   "metadata": {},
   "outputs": [],
   "source": []
  }
 ],
 "metadata": {
  "kernelspec": {
   "display_name": ".venv",
   "language": "python",
   "name": "python3"
  },
  "language_info": {
   "codemirror_mode": {
    "name": "ipython",
    "version": 3
   },
   "file_extension": ".py",
   "mimetype": "text/x-python",
   "name": "python",
   "nbconvert_exporter": "python",
   "pygments_lexer": "ipython3",
   "version": "3.13.3"
  }
 },
 "nbformat": 4,
 "nbformat_minor": 5
}
