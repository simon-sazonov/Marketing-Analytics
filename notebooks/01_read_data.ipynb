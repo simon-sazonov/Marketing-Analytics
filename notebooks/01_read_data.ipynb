{
 "cells": [
  {
   "cell_type": "code",
   "execution_count": null,
   "id": "84e2cf44",
   "metadata": {},
   "outputs": [],
   "source": [
    "%load_ext autoreload\n",
    "%autoreload 2"
   ]
  },
  {
   "cell_type": "code",
   "execution_count": null,
   "id": "7fdbddd8",
   "metadata": {},
   "outputs": [],
   "source": [
    "import re\n",
    "\n",
    "import dill\n",
    "import pandas as pd\n",
    "\n",
    "import unimib_snowit_project.utils as u"
   ]
  },
  {
   "cell_type": "markdown",
   "id": "d0f1d966",
   "metadata": {},
   "source": [
    "# Setup"
   ]
  },
  {
   "cell_type": "code",
   "execution_count": null,
   "id": "967562c6",
   "metadata": {},
   "outputs": [],
   "source": [
    "# Base Params\n",
    "\n",
    "DATA_IN_DIR = 'data_input'\n",
    "\n",
    "USERS_IN_FILENAME = 'users.csv'\n",
    "PROFILES_IN_FILENAME = 'profiles.csv'\n",
    "CARDS_IN_FILENAME = 'cards.csv'\n",
    "ORDERS_IN_FILENAME = 'orders.csv'\n",
    "ORDER_DETAILS_IN_FILENAME = 'order_details.csv'\n",
    "\n",
    "DATA_PKL_DIR = 'data_loaded'\n",
    "\n",
    "USERS_PKL_FILENAME = 'users.pkl'\n",
    "PROFILES_PKL_FILENAME = 'profiles.pkl'\n",
    "CARDS_PKL_FILENAME = 'cards.pkl'\n",
    "ORDERS_PKL_FILENAME = 'orders.pkl'\n",
    "ORDER_DETAILS_PKL_FILENAME = 'order_details.pkl'\n",
    "\n",
    "NA_VALUES = ['', ' ', '\"\"',\n",
    "             '#N/A', '#N/A N/A', '#NA', 'N/A', '<NA>', 'n/a', # 'NA',\n",
    "             '-1.#IND', '1.#IND',\n",
    "             '-1.#QNAN', '-NaN', '-nan', '-NAN', '1.#QNAN', 'NaN', 'nan', 'NAN',\n",
    "             'NULL', 'Null', 'null',\n",
    "             'NONE', 'None', 'none',\n",
    "             ]"
   ]
  },
  {
   "cell_type": "code",
   "execution_count": null,
   "id": "eca49fb6",
   "metadata": {},
   "outputs": [],
   "source": [
    "# Base paths\n",
    "\n",
    "root_dir_path = u.get_root_dir()\n",
    "\n",
    "data_in_dir_path = root_dir_path.joinpath(DATA_IN_DIR)\n",
    "users_in_path = data_in_dir_path.joinpath(USERS_IN_FILENAME)\n",
    "profiles_in_path = data_in_dir_path.joinpath(PROFILES_IN_FILENAME)\n",
    "cards_in_path = data_in_dir_path.joinpath(CARDS_IN_FILENAME)\n",
    "orders_in_path = data_in_dir_path.joinpath(ORDERS_IN_FILENAME)\n",
    "order_details_in_path = data_in_dir_path.joinpath(ORDER_DETAILS_IN_FILENAME)\n",
    "\n",
    "data_pkl_dir_path = root_dir_path.joinpath(DATA_PKL_DIR)\n",
    "users_pkl_path = data_pkl_dir_path.joinpath(USERS_PKL_FILENAME)\n",
    "profiles_pkl_path = data_pkl_dir_path.joinpath(PROFILES_PKL_FILENAME)\n",
    "cards_pkl_path = data_pkl_dir_path.joinpath(CARDS_PKL_FILENAME)\n",
    "orders_pkl_path = data_pkl_dir_path.joinpath(ORDERS_PKL_FILENAME)\n",
    "order_details_pkl_path = data_pkl_dir_path.joinpath(ORDER_DETAILS_PKL_FILENAME)"
   ]
  },
  {
   "cell_type": "markdown",
   "id": "5078431a",
   "metadata": {},
   "source": [
    "# LOAD"
   ]
  },
  {
   "cell_type": "markdown",
   "id": "770b6c85",
   "metadata": {},
   "source": [
    "## Load Users"
   ]
  },
  {
   "cell_type": "code",
   "execution_count": null,
   "id": "2884fadd",
   "metadata": {},
   "outputs": [],
   "source": [
    "safeload_users_df = pd.read_csv(users_in_path,\n",
    "                                dtype='string',\n",
    "                                na_values=[],\n",
    "                                keep_default_na=False\n",
    "                                )"
   ]
  },
  {
   "cell_type": "code",
   "execution_count": null,
   "id": "d75765a0",
   "metadata": {},
   "outputs": [],
   "source": [
    "safeload_users_df.columns"
   ]
  },
  {
   "cell_type": "code",
   "execution_count": null,
   "id": "c6b57413",
   "metadata": {},
   "outputs": [],
   "source": [
    "# col_to_check = 'favouriteZones'\n",
    "# safeload_users_df[col_to_check].drop_duplicates()"
   ]
  },
  {
   "cell_type": "code",
   "execution_count": null,
   "id": "03f278da",
   "metadata": {},
   "outputs": [],
   "source": [
    "# Read and fix\n",
    "users_df = pd.read_csv(users_in_path,\n",
    "                       keep_default_na=False,\n",
    "                       na_values=NA_VALUES,\n",
    "                       dtype={\n",
    "                           'user.uid': 'string',\n",
    "                           'createdAt': 'string',\n",
    "                           'source': 'string',\n",
    "                           'isAnonymous': 'boolean',\n",
    "                           'referralsCount': 'Int64',\n",
    "                           'city': 'string',\n",
    "                           'language': 'string',\n",
    "                           'googleId': 'boolean',\n",
    "                           'appleId': 'boolean',\n",
    "                           'facebookId': 'boolean',\n",
    "                           'referral.medium': 'string',\n",
    "                           'referral.source': 'string',\n",
    "                           'referral.type': 'Int64',\n",
    "                           'favouriteZones': 'string'\n",
    "                       }\n",
    "                       )\n",
    "\n",
    "users_df['createdAt'] = pd.to_datetime(users_df['createdAt'])\n",
    "\n",
    "users_df['city'] = (users_df['city']\n",
    "                    .apply(lambda x:\n",
    "                           u.clean_str(x, 'lower')\n",
    "                           if pd.notnull(x)\n",
    "                           else None\n",
    "                           )\n",
    "                    )\n",
    "\n",
    "users_df['referral.medium'] = (users_df['referral.medium']\n",
    "                        .apply(lambda x:\n",
    "                               u.clean_str(x, 'lower')\n",
    "                               if pd.notnull(x)\n",
    "                               else None\n",
    "                               )\n",
    "                        )\n",
    "\n",
    "users_df['referral.source'] = (users_df['referral.source']\n",
    "                        .apply(lambda x:\n",
    "                               u.clean_str(x, 'lower')\n",
    "                               if pd.notnull(x)\n",
    "                               else None\n",
    "                               )\n",
    "                        )\n",
    "\n",
    "users_df['favouriteZones'] = (users_df['favouriteZones']\n",
    "                              .apply(lambda x:\n",
    "                                     u.get_list_from_str(x)\n",
    "                                     if pd.notnull(x)\n",
    "                                     else []\n",
    "                                     )\n",
    "                              )"
   ]
  },
  {
   "cell_type": "code",
   "execution_count": null,
   "id": "c8f22faf",
   "metadata": {},
   "outputs": [],
   "source": [
    "# CHECK PK VALIDITY\n",
    "\n",
    "# SELECT count(1) as num_rows\n",
    "# FROM users_df\n",
    "# WHERE user.uid IS NULL\n",
    "\n",
    "display(\n",
    "    users_df\n",
    "    .loc[lambda tbl: tbl['user.uid'].isnull()]\n",
    "    .assign(aux=1.0)\n",
    "    .shape[0]\n",
    ")\n",
    "\n",
    "# SELECT user.uid, count(1) as num_rows\n",
    "# FROM users_df\n",
    "# GROUP BY user.id\n",
    "# HAVING num_rows > 1\n",
    "\n",
    "display(\n",
    "    users_df\n",
    "    .assign(aux=1.0)\n",
    "    .groupby(['user.uid'], dropna=False)\n",
    "    .agg(num_rows=('aux', pd.Series.count))\n",
    "    .loc[lambda tbl: tbl['num_rows'] > 1]\n",
    ")"
   ]
  },
  {
   "cell_type": "markdown",
   "id": "a1317d84",
   "metadata": {},
   "source": [
    "## Load Profiles"
   ]
  },
  {
   "cell_type": "code",
   "execution_count": null,
   "id": "43069091",
   "metadata": {},
   "outputs": [],
   "source": [
    "safeload_profiles_df = pd.read_csv(profiles_in_path,\n",
    "                                   dtype='string',\n",
    "                                   na_values=[],\n",
    "                                   keep_default_na=False\n",
    "                                   )"
   ]
  },
  {
   "cell_type": "code",
   "execution_count": null,
   "id": "55caf006",
   "metadata": {},
   "outputs": [],
   "source": [
    "safeload_profiles_df.columns"
   ]
  },
  {
   "cell_type": "code",
   "execution_count": null,
   "id": "5cff2659",
   "metadata": {},
   "outputs": [],
   "source": [
    "# col_to_check = 'types'\n",
    "# safeload_profiles_df[col_to_check].drop_duplicates()"
   ]
  },
  {
   "cell_type": "code",
   "execution_count": null,
   "id": "0b95b5a1",
   "metadata": {},
   "outputs": [],
   "source": [
    "# Read and fix\n",
    "profiles_df = pd.read_csv(profiles_in_path,\n",
    "                       keep_default_na=False,\n",
    "                       na_values=NA_VALUES,\n",
    "                       dtype={\n",
    "                           'user.uid': 'string',\n",
    "                           'profile.uid': 'string',\n",
    "                           'birthday': 'string',\n",
    "                           'sex': 'string',\n",
    "                           'city': 'string',\n",
    "                           'height': 'Float64',\n",
    "                           'weight': 'Float64',\n",
    "                           'skibootsSize': 'Float64',\n",
    "                           'level': 'string',\n",
    "                           'types': 'string'\n",
    "                       }\n",
    "                       )\n",
    "\n",
    "profiles_df['birthday'] = pd.to_datetime(profiles_df['birthday'])\n",
    "\n",
    "def clean_profile_sex(sex: str) -> str | None:\n",
    "    clean = u.clean_str(sex, 'upper')\n",
    "    if clean in ['M', 'F']:\n",
    "        return clean\n",
    "    elif clean == ['UOMO', 'MASCHIO']:\n",
    "        return 'M'\n",
    "    elif clean == ['DONNA', 'FEMMINA']:\n",
    "        return 'F'\n",
    "    else:\n",
    "        None\n",
    "profiles_df['sex'] = (profiles_df['sex']\n",
    "                      .apply(lambda x:\n",
    "                             clean_profile_sex(x)\n",
    "                             if pd.notnull(x)\n",
    "                             else None\n",
    "                             )\n",
    "                      )\n",
    "\n",
    "profiles_df['city'] = (profiles_df['city']\n",
    "                    .apply(lambda x:\n",
    "                           u.clean_str(x, 'lower')\n",
    "                           if pd.notnull(x)\n",
    "                           else None\n",
    "                           )\n",
    "                    )\n",
    "profiles_df['types'] = (profiles_df['types']\n",
    "                              .apply(lambda x:\n",
    "                                     u.get_list_from_str(x)\n",
    "                                     if pd.notnull(x)\n",
    "                                     else []\n",
    "                                     )\n",
    "                              )"
   ]
  },
  {
   "cell_type": "code",
   "execution_count": null,
   "id": "db31d5bb",
   "metadata": {},
   "outputs": [],
   "source": [
    "# CHECK PK VALIDITY\n",
    "\n",
    "# SELECT count(1) as num_rows\n",
    "# FROM profiles_df\n",
    "# WHERE profile.uid IS NULL\n",
    "\n",
    "display(\n",
    "    profiles_df\n",
    "    .loc[lambda tbl: tbl['profile.uid'].isnull()]\n",
    "    .assign(aux=1.0)\n",
    "    .shape[0]\n",
    ")\n",
    "\n",
    "# SELECT profile.uid, count(1) as num_rows\n",
    "# FROM profiles_df\n",
    "# GROUP BY profile.id\n",
    "# HAVING num_rows > 1\n",
    "\n",
    "display(\n",
    "    profiles_df\n",
    "    .assign(aux=1.0)\n",
    "    .groupby(['profile.uid'], dropna=False)\n",
    "    .agg(num_rows=('aux', pd.Series.count))\n",
    "    .loc[lambda tbl: tbl['num_rows'] > 1]\n",
    ")"
   ]
  },
  {
   "cell_type": "code",
   "execution_count": null,
   "id": "797ea10a",
   "metadata": {},
   "outputs": [],
   "source": [
    "# CHECK FK VALIDITY\n",
    "\n",
    "# SELECT\n",
    "#   A.user.uid,\n",
    "#   count(1) as num_rows\n",
    "# FROM \n",
    "#   (SELECT DISTINCT user.uid\n",
    "#   FROM profiles_df\n",
    "#   WHERE user.uid IS NOT NULL) AS A\n",
    "#   LEFT JOIN\n",
    "#   (SELECT user.uid, 1.0 AS in_users\n",
    "#   FROM users_df) AS B\n",
    "#   ON A.user.uid = B.user.uid\n",
    "# GROUP BY in_users\n",
    "# HAVING num_rows > 1\n",
    "\n",
    "(profiles_df\n",
    " [['user.uid']]\n",
    " .loc[lambda tbl: tbl['user.uid'].notnull()]\n",
    " .drop_duplicates()\n",
    " .merge(users_df[['user.uid']].assign(in_users=1.0),\n",
    "        how='left',\n",
    "        on='user.uid'\n",
    "        )\n",
    " .assign(aux=1.0)\n",
    " .groupby(['in_users'], dropna=False)\n",
    " .agg(num_rows=('aux', pd.Series.count))\n",
    " .loc[lambda tbl: tbl['num_rows'] > 1]\n",
    ")"
   ]
  },
  {
   "cell_type": "code",
   "execution_count": null,
   "id": "efe1e74b",
   "metadata": {},
   "outputs": [],
   "source": [
    "(profiles_df\n",
    " [['user.uid']]\n",
    " .loc[lambda tbl: tbl['user.uid'].notnull()]\n",
    " .drop_duplicates()\n",
    " .merge(users_df[['user.uid']].assign(in_users=1.0),\n",
    "        how='left',\n",
    "        on='user.uid'\n",
    "        )\n",
    " .loc[lambda tbl: tbl['in_users'].isnull()]\n",
    ")"
   ]
  },
  {
   "cell_type": "code",
   "execution_count": null,
   "id": "7926e01d",
   "metadata": {},
   "outputs": [],
   "source": [
    "profile_fail_useruids = (profiles_df\n",
    "    [['user.uid']]\n",
    "    .loc[lambda tbl: tbl['user.uid'].notnull()]\n",
    "    .drop_duplicates()\n",
    "    .merge(users_df[['user.uid']].assign(in_users=1.0),\n",
    "            how='left',\n",
    "            on='user.uid'\n",
    "            )\n",
    "    .loc[lambda tbl: tbl['in_users'].isnull()]\n",
    "    ['user.uid']\n",
    ")\n",
    "\n",
    "display(profile_fail_useruids)\n",
    "\n",
    "profile_fail_useruid_df = profiles_df.loc[lambda tbl: tbl['user.uid'].isin(profile_fail_useruids)]\n",
    "\n",
    "display(profile_fail_useruid_df)"
   ]
  },
  {
   "cell_type": "code",
   "execution_count": null,
   "id": "2d9c2c18",
   "metadata": {},
   "outputs": [],
   "source": [
    "# FIX FK ISSUE\n",
    "profiles_df.drop(list(profile_fail_useruid_df.index), inplace=True)"
   ]
  },
  {
   "cell_type": "code",
   "execution_count": null,
   "id": "87570c49",
   "metadata": {},
   "outputs": [],
   "source": [
    "display(\n",
    "    profiles_df\n",
    "    [['user.uid']]\n",
    "    .loc[lambda tbl: tbl['user.uid'].notnull()]\n",
    "    .drop_duplicates()\n",
    "    .merge(users_df[['user.uid']].assign(in_users=1.0),\n",
    "            how='left',\n",
    "            on='user.uid'\n",
    "            )\n",
    "    .assign(aux=1.0)\n",
    "    .groupby(['in_users'], dropna=False)\n",
    "    .agg(num_rows=('aux', pd.Series.count))\n",
    "    .loc[lambda tbl: tbl['num_rows'] > 1]\n",
    ")"
   ]
  },
  {
   "cell_type": "markdown",
   "id": "daf5a69d",
   "metadata": {},
   "source": [
    "## Load Cards"
   ]
  },
  {
   "cell_type": "code",
   "execution_count": null,
   "id": "ca74b837",
   "metadata": {},
   "outputs": [],
   "source": [
    "safeload_cards_df = pd.read_csv(cards_in_path,\n",
    "                                dtype='string',\n",
    "                                na_values=[],\n",
    "                                keep_default_na=False\n",
    "                                )"
   ]
  },
  {
   "cell_type": "code",
   "execution_count": null,
   "id": "385b626c",
   "metadata": {},
   "outputs": [],
   "source": [
    "safeload_cards_df.columns"
   ]
  },
  {
   "cell_type": "code",
   "execution_count": null,
   "id": "be8b2d9b",
   "metadata": {},
   "outputs": [],
   "source": [
    "# ..."
   ]
  },
  {
   "cell_type": "code",
   "execution_count": null,
   "id": "003b9a45",
   "metadata": {},
   "outputs": [],
   "source": [
    "# Read and fix\n",
    "cards_df = ..."
   ]
  },
  {
   "cell_type": "markdown",
   "id": "c8bf576f",
   "metadata": {},
   "source": [
    "## Load Orders"
   ]
  },
  {
   "cell_type": "code",
   "execution_count": null,
   "id": "5d72857a",
   "metadata": {},
   "outputs": [],
   "source": [
    "safeload_orders_df = pd.read_csv(orders_in_path,\n",
    "                                 dtype='string',\n",
    "                                 na_values=[],\n",
    "                                 keep_default_na=False\n",
    "                                )"
   ]
  },
  {
   "cell_type": "code",
   "execution_count": null,
   "id": "d044d767",
   "metadata": {},
   "outputs": [],
   "source": [
    "safeload_orders_df.columns"
   ]
  },
  {
   "cell_type": "code",
   "execution_count": null,
   "id": "487357da",
   "metadata": {},
   "outputs": [],
   "source": [
    "# col_to_check = 'clientInfo'\n",
    "# safeload_orders_df[col_to_check].drop_duplicates()"
   ]
  },
  {
   "cell_type": "code",
   "execution_count": null,
   "id": "e7b91b51",
   "metadata": {},
   "outputs": [],
   "source": [
    "# Read and fix\n",
    "orders_df = ..."
   ]
  },
  {
   "cell_type": "markdown",
   "id": "2b0abe19",
   "metadata": {},
   "source": [
    "## Load Order Details"
   ]
  },
  {
   "cell_type": "code",
   "execution_count": null,
   "id": "28987e95",
   "metadata": {},
   "outputs": [],
   "source": [
    "safeload_order_details_df = pd.read_csv(order_details_in_path,\n",
    "                                        dtype='string',\n",
    "                                        na_values=[],\n",
    "                                        keep_default_na=False\n",
    "                                        )"
   ]
  },
  {
   "cell_type": "code",
   "execution_count": null,
   "id": "8241a9e7",
   "metadata": {},
   "outputs": [],
   "source": [
    "safeload_order_details_df.columns"
   ]
  },
  {
   "cell_type": "code",
   "execution_count": null,
   "id": "9f57d8b1",
   "metadata": {},
   "outputs": [],
   "source": [
    "# ..."
   ]
  },
  {
   "cell_type": "code",
   "execution_count": null,
   "id": "f728ed86",
   "metadata": {},
   "outputs": [],
   "source": [
    "# Read and fix\n",
    "order_details_df = ..."
   ]
  },
  {
   "cell_type": "markdown",
   "id": "2be1ef93",
   "metadata": {},
   "source": [
    "# Save"
   ]
  },
  {
   "cell_type": "code",
   "execution_count": null,
   "id": "88cc55fc",
   "metadata": {},
   "outputs": [],
   "source": [
    "# Save Cleaned Dataset\n",
    "\n",
    "with users_pkl_path.open('wb') as fh:\n",
    "    dill.dump(users_df, fh)\n",
    "print(f\"Save users data in {users_pkl_path.as_posix()}\")\n",
    "\n",
    "with profiles_pkl_path.open('wb') as fh:\n",
    "    dill.dump(profiles_df, fh)\n",
    "print(f\"Save profiles data in {profiles_pkl_path.as_posix()}\")\n",
    "\n",
    "with cards_pkl_path.open('wb') as fh:\n",
    "    dill.dump(cards_df, fh)\n",
    "print(f\"Save cards data in {cards_pkl_path.as_posix()}\")\n",
    "\n",
    "with orders_pkl_path.open('wb') as fh:\n",
    "    dill.dump(orders_df, fh)\n",
    "print(f\"Save orders data in {orders_pkl_path.as_posix()}\")\n",
    "\n",
    "with order_details_pkl_path.open('wb') as fh:\n",
    "    dill.dump(order_details_df, fh)\n",
    "print(f\"Save order details data in {order_details_pkl_path.as_posix()}\")"
   ]
  }
 ],
 "metadata": {
  "kernelspec": {
   "display_name": "UNIMIB",
   "language": "python",
   "name": "python3"
  },
  "language_info": {
   "codemirror_mode": {
    "name": "ipython",
    "version": 3
   },
   "file_extension": ".py",
   "mimetype": "text/x-python",
   "name": "python",
   "nbconvert_exporter": "python",
   "pygments_lexer": "ipython3",
   "version": "3.12.9"
  }
 },
 "nbformat": 4,
 "nbformat_minor": 5
}
